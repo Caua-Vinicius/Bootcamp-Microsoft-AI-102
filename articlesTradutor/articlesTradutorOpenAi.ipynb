{
 "cells": [
  {
   "cell_type": "code",
   "execution_count": null,
   "metadata": {
    "vscode": {
     "languageId": "plaintext"
    }
   },
   "outputs": [],
   "source": [
    "!pip install requests beatifulsoup4 openai langchain-openai"
   ]
  },
  {
   "cell_type": "code",
   "execution_count": null,
   "metadata": {
    "vscode": {
     "languageId": "plaintext"
    }
   },
   "outputs": [],
   "source": [
    "import requests\n",
    "from bs4 import BeatifulSoup\n",
    "\n",
    "def extract_text_from_url(url):\n",
    "    response = requests.get(url)\n",
    "\n",
    "    if response.status_code != 200:\n",
    "        print(f\"Failed to fetch the URL. Status code: {response.status_code}\")\n",
    "        return None\n",
    "\n",
    "    soup = BeatifulSoup(response.text, 'html.parser')\n",
    "\n",
    "    for script_or_style in soup(['script', 'style']):\n",
    "        script_or_style.decompose()\n",
    "\n",
    "    text = soup.get_text(separator= ' ')\n",
    "\n",
    "    lines = (line.strip() for line in text.splitlines())\n",
    "    parts = (phrase.strip() for line in lines for phrase in line.split(\" \"))\n",
    "    clean_text = '\\n'.join(part for part in partes if part)\n",
    "    return clean_text\n"
   ]
  },
  {
   "cell_type": "code",
   "execution_count": null,
   "metadata": {
    "vscode": {
     "languageId": "plaintext"
    }
   },
   "outputs": [],
   "source": [
    "from langchain_openai.chat_models.azure import AzureChatOpenAI\n",
    "\n",
    "client = AzureChatOpenAI(\n",
    "    azure_endpoint= \"YOUR ENDPOINT\",\n",
    "    api_key= \"YOUR KEY\",\n",
    "    api_version= \"VERSION\",\n",
    "    deployment_name = \"gpt-4o-mini\",\n",
    "    max_retries = 0,\n",
    ")\n",
    "\n",
    "def translate_article(text, lang):\n",
    "    messages = [\n",
    "        (\"system\", \"Você atua como tradutor de textos\"),\n",
    "        (\"user\", f\"Traduza o {text} para o idioma {lang} e responda em markdown\")\n",
    "    ]\n",
    "\n",
    "    response = client.invoke(messages)\n",
    "    return response.content"
   ]
  },
  {
   "cell_type": "code",
   "execution_count": null,
   "metadata": {
    "vscode": {
     "languageId": "plaintext"
    }
   },
   "outputs": [],
   "source": [
    "url = \"\"\n",
    "target_lang = \"\"\n",
    "text = extract_text_from_url(url)\n",
    "article = translate_article(text, target_lang)"
   ]
  }
 ],
 "metadata": {
  "language_info": {
   "name": "python"
  }
 },
 "nbformat": 4,
 "nbformat_minor": 2
}
