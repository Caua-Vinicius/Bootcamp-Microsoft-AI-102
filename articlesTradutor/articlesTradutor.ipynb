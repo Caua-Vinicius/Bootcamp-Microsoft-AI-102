{
 "cells": [
  {
   "cell_type": "code",
   "execution_count": null,
   "metadata": {
    "vscode": {
     "languageId": "plaintext"
    }
   },
   "outputs": [],
   "source": [
    "!pip install requests python python-docx"
   ]
  },
  {
   "cell_type": "code",
   "execution_count": null,
   "metadata": {
    "vscode": {
     "languageId": "plaintext"
    }
   },
   "outputs": [],
   "source": [
    "import requests\n",
    "from docx import Document\n",
    "import os\n",
    "\n",
    "subscription_key = \"YOUR SUBSCRIPTION KEY\"\n",
    "endpoint = \"https://api.cognitive.microsofttranslator.com\"\n",
    "location = \"YOUR LOCATION\"\n",
    "target_language = \"\"\n",
    "\n",
    "def translator_text(text, target_language):\n",
    "    path = '/translate'\n",
    "    constructed_url = endpoint + path\n",
    "    headers = {\n",
    "        'Ocp-Apim-subscription-Key': subscription_key,\n",
    "        'Ocp-Apim-subscription-Region': location,\n",
    "        'Content-type': 'application/json',\n",
    "        'X-ClientTraceId': str(os.urandom(16)),\n",
    "    }\n",
    "\n",
    "    body = [{\n",
    "        'text': text\n",
    "    }]\n",
    "\n",
    "    params = {\n",
    "        'api-version': '3.0',\n",
    "        'from': 'en',\n",
    "        'to': target_language,\n",
    "    } \n",
    "\n",
    "    request = requests.post(constructed_url, params=params, headers=headers, json=body)\n",
    "    response = request.json()\n",
    "    return response[0][\"translations\"][0][\"text\"]"
   ]
  },
  {
   "cell_type": "code",
   "execution_count": null,
   "metadata": {
    "vscode": {
     "languageId": "plaintext"
    }
   },
   "outputs": [],
   "source": [
    "def translate_document(path):\n",
    "    document = Document(path)\n",
    "    full_text = []\n",
    "    for paragraph in document.paragraphs:\n",
    "        translated_text = translator_text(paragraph.text, target_language)\n",
    "        full_text.append(translated_text)\n",
    "\n",
    "    translated_doc = Document()\n",
    "    for line in full_text:\n",
    "        translated_doc.add_paragraph(line)\n",
    "    path_translated = path.replace(\".docx\", f\"_{target_language}.docx\")\n",
    "    translated_doc.save(path_translated)\n",
    "    return path_translated\n"
   ]
  }
 ],
 "metadata": {
  "language_info": {
   "name": "python"
  }
 },
 "nbformat": 4,
 "nbformat_minor": 2
}
